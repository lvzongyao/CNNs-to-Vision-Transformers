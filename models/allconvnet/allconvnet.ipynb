{
 "cells": [
  {
   "cell_type": "code",
   "execution_count": 16,
   "id": "b40672b6",
   "metadata": {},
   "outputs": [],
   "source": [
    "# reference: https://github.com/StefOe/all-conv-pytorch/blob/master/cifar10.ipynb\n",
    "import torch\n",
    "import torch.nn as nn\n",
    "import torch.nn.functional as F\n",
    "import torch.optim as optim\n",
    "import torchvision\n",
    "from torchvision import datasets, transforms\n",
    "import sys\n",
    "sys.path.append('..')\n",
    "# import utils_for_google_drive\n",
    "\n",
    "# from allconvnet import AllConvNet\n",
    "import os\n",
    "import pdb\n",
    "\n",
    "device = torch.device('cuda' if torch.cuda.is_available() else 'cpu')"
   ]
  },
  {
   "cell_type": "code",
   "execution_count": 2,
   "id": "cf22064f",
   "metadata": {},
   "outputs": [],
   "source": [
    "import torch.nn as nn\n",
    "import torch.nn.functional as F\n",
    "\n",
    "\n",
    "class AllConvNet(nn.Module):\n",
    "    def __init__(self, in_channels, num_classes=10, dropout=True):\n",
    "        super().__init__()\n",
    "        self.dropout = dropout\n",
    "        self.conv1 = nn.Conv2d(in_channels, 96, 3, padding=1)\n",
    "        self.conv2 = nn.Conv2d(96, 96, 3, padding=1)\n",
    "        self.conv3 = nn.Conv2d(96, 96, 3, stride=2, padding=1)\n",
    "        self.conv4 = nn.Conv2d(96, 192, 3, padding=1)\n",
    "        self.conv5 = nn.Conv2d(192, 192, 3, padding=1)\n",
    "        self.conv6 = nn.Conv2d(192, 192, 3, stride=2, padding=1)\n",
    "        # self.conv7 = nn.Conv2d(192, 192, 3, padding=1)\n",
    "        self.conv7 = nn.Conv2d(192, 192, 3)\n",
    "        self.conv8 = nn.Conv2d(192, 192, 1)\n",
    "        self.conv_class = nn.Conv2d(192, num_classes, 1)\n",
    "\n",
    "    def forward(self, x):\n",
    "        if self.dropout:\n",
    "            x = F.dropout(x, .2)\n",
    "        x = F.relu(self.conv1(x))\n",
    "        # print(x)\n",
    "        x = F.relu(self.conv2(x))\n",
    "        #print(x)\n",
    "        x = F.relu(self.conv3(x))\n",
    "        # print(x)\n",
    "        # pdb.set_trace()\n",
    "\n",
    "        if self.dropout:\n",
    "            x = F.dropout(x, .5)\n",
    "        x = F.relu(self.conv4(x))\n",
    "        x = F.relu(self.conv5(x))\n",
    "        x = F.relu(self.conv6(x))\n",
    "\n",
    "        if self.dropout:\n",
    "            x = F.dropout(x, .5)\n",
    "        x = F.relu(self.conv7(x))\n",
    "        x = F.relu(self.conv8(x))\n",
    "        x = F.relu(self.conv_class(x))\n",
    "        # print(x)\n",
    "        x = x.reshape(x.size()[0], x.size()[1], -1).mean(-1)\n",
    "#         x = F.adaptive_avg_pool2d(x, 1)\n",
    "#         # print(x)\n",
    "#         x.squeeze_(-1)\n",
    "#         # print(x)\n",
    "#         x.squeeze_(-1)\n",
    "        # print(x)\n",
    "        return x"
   ]
  },
  {
   "cell_type": "code",
   "execution_count": 3,
   "id": "6412d1b8",
   "metadata": {},
   "outputs": [],
   "source": [
    "# loading dataset\n",
    "datapath = 'E:/Datasets/CIFAR10'\n",
    "# trainset = datasets.CIFAR10(root=datapath,\n",
    "#                             train=True,\n",
    "#                             download=False,\n",
    "#                             # transform=transform  # 按照上面定义的transform格式转换下载的数据\n",
    "#                             )\n",
    "# mean = trainset.data.mean(axis=(0,1,2))/255\n",
    "# std = trainset.data.std(axis=(0,1,2))/255\n",
    "\n",
    "# train_transform = transforms.Compose([transforms.ToTensor(), # 将PILImage转换为张量 \n",
    "#                                       # transforms.RandomCrop(32, padding=4),\n",
    "#                                       # transforms.RandomHorizontalFlip(),\n",
    "#                                       transforms.Normalize((0.5, 0.5, 0.5), (0.5, 0.5, 0.5))]  # 将[0, 1]归一化到[-1, 1]\n",
    "#                                       # transforms.Normalize(mean, std)]\n",
    "#                                      )\n",
    "# test_transform = transforms.Compose([transforms.ToTensor(),\n",
    "#                                      transforms.Normalize(mean, std)])\n",
    "\n",
    "transform = transforms.Compose([transforms.ToTensor(), # 将PILImage转换为张量  \n",
    "                                transforms.Normalize((0.5, 0.5, 0.5), (0.5, 0.5, 0.5))])  # 将[0, 1]归一化到[-1, 1]\n",
    "\n",
    "trainset = datasets.CIFAR10(root=datapath,\n",
    "                            train=True,\n",
    "                            download=False,\n",
    "                            # transform=train_transform  # 按照上面定义的transform格式转换下载的数据\n",
    "                            transform=transform\n",
    "                            )\n",
    "trainloader = torch.utils.data.DataLoader(trainset,\n",
    "                                          batch_size=8,  # 每个batch载入的图片数量，默认为1\n",
    "                                          shuffle=True,\n",
    "                                          num_workers=2  # 载入训练数据所需的子任务数\n",
    "                                          )\n",
    "\n",
    "testset = datasets.CIFAR10(root=datapath,\n",
    "                           train=False,\n",
    "                           download=False,\n",
    "                           # transform=test_transform\n",
    "                           transform=transform)\n",
    "testloader = torch.utils.data.DataLoader(testset,\n",
    "                                         batch_size=16,\n",
    "                                         shuffle=False,\n",
    "                                         num_workers=2)\n",
    "\n",
    "cifar10_classes = ('plane', 'car', 'bird', 'cat', 'deer', 'dog', 'frog', 'horse', 'ship', 'truck')\n",
    "# mean, std  (array([0.49139968, 0.48215841, 0.44653091]), array([0.24703223, 0.24348513, 0.26158784]))"
   ]
  },
  {
   "cell_type": "code",
   "execution_count": 19,
   "id": "a93585ef",
   "metadata": {},
   "outputs": [
    {
     "data": {
      "text/plain": [
       "(Dataset CIFAR10\n",
       "     Number of datapoints: 50000\n",
       "     Root location: E:/Datasets/CIFAR10\n",
       "     Split: Train\n",
       "     StandardTransform\n",
       " Transform: Compose(\n",
       "                ToTensor()\n",
       "                Normalize(mean=(0.5, 0.5, 0.5), std=(0.5, 0.5, 0.5))\n",
       "            ),\n",
       " Dataset CIFAR10\n",
       "     Number of datapoints: 10000\n",
       "     Root location: E:/Datasets/CIFAR10\n",
       "     Split: Test\n",
       "     StandardTransform\n",
       " Transform: Compose(\n",
       "                ToTensor()\n",
       "                Normalize(mean=(0.5, 0.5, 0.5), std=(0.5, 0.5, 0.5))\n",
       "            ),\n",
       " 10000)"
      ]
     },
     "execution_count": 19,
     "metadata": {},
     "output_type": "execute_result"
    }
   ],
   "source": [
    "trainloader.dataset, testloader.dataset, len(testloader.dataset)"
   ]
  },
  {
   "cell_type": "code",
   "execution_count": 13,
   "id": "147d05c9",
   "metadata": {},
   "outputs": [
    {
     "data": {
      "text/plain": [
       "(torch.Size([8, 3, 32, 32]), tensor([3, 5, 5, 3, 7, 4, 1, 9]), 'dog')"
      ]
     },
     "execution_count": 13,
     "metadata": {},
     "output_type": "execute_result"
    }
   ],
   "source": [
    "dataiter = iter(trainloader)\n",
    "images, labels = dataiter.next()\n",
    "torchvision.utils.save_image(images[1], 'test.jpg')\n",
    "\n",
    "images.shape, labels, cifar10_classes[labels[1]]"
   ]
  },
  {
   "cell_type": "code",
   "execution_count": 6,
   "id": "c08d30a3",
   "metadata": {},
   "outputs": [
    {
     "data": {
      "text/plain": [
       "AllConvNet(\n",
       "  (conv1): Conv2d(3, 96, kernel_size=(3, 3), stride=(1, 1), padding=(1, 1))\n",
       "  (conv2): Conv2d(96, 96, kernel_size=(3, 3), stride=(1, 1), padding=(1, 1))\n",
       "  (conv3): Conv2d(96, 96, kernel_size=(3, 3), stride=(2, 2), padding=(1, 1))\n",
       "  (conv4): Conv2d(96, 192, kernel_size=(3, 3), stride=(1, 1), padding=(1, 1))\n",
       "  (conv5): Conv2d(192, 192, kernel_size=(3, 3), stride=(1, 1), padding=(1, 1))\n",
       "  (conv6): Conv2d(192, 192, kernel_size=(3, 3), stride=(2, 2), padding=(1, 1))\n",
       "  (conv7): Conv2d(192, 192, kernel_size=(3, 3), stride=(1, 1))\n",
       "  (conv8): Conv2d(192, 192, kernel_size=(1, 1), stride=(1, 1))\n",
       "  (conv_class): Conv2d(192, 10, kernel_size=(1, 1), stride=(1, 1))\n",
       ")"
      ]
     },
     "execution_count": 6,
     "metadata": {},
     "output_type": "execute_result"
    }
   ],
   "source": [
    "# load model\n",
    "net = AllConvNet(3)\n",
    "net"
   ]
  },
  {
   "cell_type": "code",
   "execution_count": 14,
   "id": "2322328d",
   "metadata": {},
   "outputs": [
    {
     "data": {
      "text/plain": [
       "(tensor([[0.0000, 0.0205, 0.0317, 0.0299, 0.0000, 0.0607, 0.0712, 0.0000, 0.0000,\n",
       "          0.0000]], grad_fn=<MeanBackward1>),\n",
       " torch.Size([1, 10]))"
      ]
     },
     "execution_count": 14,
     "metadata": {},
     "output_type": "execute_result"
    }
   ],
   "source": [
    "x = torch.randn(1, 3, 32, 32)\n",
    "y = net(x)\n",
    "y, y.shape"
   ]
  },
  {
   "cell_type": "code",
   "execution_count": 8,
   "id": "1f23a021",
   "metadata": {},
   "outputs": [],
   "source": [
    "criterion = nn.CrossEntropyLoss()\n",
    "optimizer = optim.SGD(net.parameters(), lr=0.001, momentum=0.9)\n",
    "# scheduler = optim.lr_scheduler.MultiStepLR(optimizer, milestones=[200, 250, 300], gamma=0.1)"
   ]
  },
  {
   "cell_type": "code",
   "execution_count": 15,
   "id": "aca7454b",
   "metadata": {},
   "outputs": [
    {
     "name": "stdout",
     "output_type": "stream",
     "text": [
      "Train Epoch: 0 - [4000/50000 (8%)]   loss: 2.303235\n",
      "Train Epoch: 0 - [8000/50000 (16%)]   loss: 2.302552\n",
      "Train Epoch: 0 - [12000/50000 (24%)]   loss: 2.302932\n",
      "Train Epoch: 0 - [16000/50000 (32%)]   loss: 2.302716\n",
      "Train Epoch: 0 - [20000/50000 (40%)]   loss: 2.302590\n",
      "Train Epoch: 0 - [24000/50000 (48%)]   loss: 2.302585\n",
      "Train Epoch: 0 - [28000/50000 (56%)]   loss: 2.302585\n",
      "Train Epoch: 0 - [32000/50000 (64%)]   loss: 2.302585\n",
      "Train Epoch: 0 - [36000/50000 (72%)]   loss: 2.302585\n",
      "Train Epoch: 0 - [40000/50000 (80%)]   loss: 2.302585\n",
      "Train Epoch: 0 - [44000/50000 (88%)]   loss: 2.302585\n",
      "Train Epoch: 0 - [48000/50000 (96%)]   loss: 2.302585\n",
      "Saving epoch 1 model ...\n",
      "Finished training.\n"
     ]
    }
   ],
   "source": [
    "# training\n",
    "def train(epoch):\n",
    "    net.train()\n",
    "    train_loss = 0.0\n",
    "    for batch_idx, data in enumerate(trainloader):\n",
    "        inputs, labels = data\n",
    "        optimizer.zero_grad()\n",
    "        outputs = net(inputs)\n",
    "#         print(outputs)\n",
    "#         print(labels)\n",
    "#         pdb.set_trace()\n",
    "        loss = criterion(outputs, labels)\n",
    "        # print(loss)\n",
    "        # pdb.set_trace()\n",
    "        loss.backward()\n",
    "        optimizer.step()\n",
    "        train_loss += loss.item()\n",
    "        if batch_idx % 500 == 499:  # print loss every 500 batch\n",
    "            print('Train Epoch: {} - [{}/{} ({:.0f}%)]   loss: {:.6f}'.format(epoch, (batch_idx+1) * len(inputs), len(trainloader.dataset), \n",
    "                                                                              100. * batch_idx / len(trainloader), train_loss / 500))\n",
    "            train_loss = 0.0\n",
    "      \n",
    "    print('Saving epoch {} model ...'.format(epoch + 1))\n",
    "    state = {\n",
    "        'net': net.state_dict(), \n",
    "        'epoch': epoch + 1}\n",
    "    if not os.path.isdir('checkpoint'):\n",
    "        os.mkdir('checkpoint')\n",
    "    torch.save(state, './checkpoint/allconvnet_cifar10_epoch_%d.ckpt' % (epoch + 1))\n",
    "            \n",
    "for epoch in range(1):\n",
    "    train(epoch)\n",
    "print('Finished training.')"
   ]
  },
  {
   "cell_type": "code",
   "execution_count": 24,
   "id": "8fbb444c",
   "metadata": {},
   "outputs": [],
   "source": [
    "def test(epoch, best_loss, best_epoch):\n",
    "    net.eval()\n",
    "    test_loss = 0\n",
    "    correct = 0\n",
    "    for images, labels in testloader:\n",
    "        images, labels = images.to(device), labels.to(device)\n",
    "        outputs = net(images)\n",
    "        # sum up batch loss\n",
    "        test_loss += criterion(outputs, labels).item()\n",
    "        # get the index of the max log-probability\n",
    "        _, pred = torch.max(outputs.data, 1)\n",
    "        # pred = outputs.data.max(1, keepdim=True)[1]\n",
    "        correct += (pred == labels).cpu().sum().item()\n",
    "        # correct += (pred.eq(target.data.view_as(pred)).long().cpu().sum())\n",
    "        \n",
    "    test_loss /= len(testloader.dataset)  # 10000\n",
    "    \n",
    "    print('\\nTest set: Average loss: {:.4f}, Accuracy: {}/{} ({:.0f}%)\\n'.format(\n",
    "            test_loss, correct, len(testloader.dataset), 100. * correct / len(testloader.dataset)))\n",
    "    \n",
    "    if test_loss < best_loss:\n",
    "        best_epoch = epoch\n",
    "        best_loss = test_loss\n",
    "        torch.save(net, 'best.pt')\n",
    "    \n",
    "    return best_loss, best_epoch"
   ]
  },
  {
   "cell_type": "code",
   "execution_count": 25,
   "id": "04bfa275",
   "metadata": {},
   "outputs": [
    {
     "name": "stdout",
     "output_type": "stream",
     "text": [
      "\n",
      "Test set: Average loss: 0.1439, Accuracy: 1004/10000 (10%)\n",
      "\n"
     ]
    }
   ],
   "source": [
    "best_loss = float('inf')\n",
    "best_epoch = -1\n",
    "net = net.to(device)\n",
    "\n",
    "for epoch in range(1):\n",
    "    # scheduler.step()\n",
    "    # train(epoch)\n",
    "    best_loss, best_epoch = test(epoch, best_loss, best_epoch)"
   ]
  }
 ],
 "metadata": {
  "kernelspec": {
   "display_name": "Python 3",
   "language": "python",
   "name": "python3"
  },
  "language_info": {
   "codemirror_mode": {
    "name": "ipython",
    "version": 3
   },
   "file_extension": ".py",
   "mimetype": "text/x-python",
   "name": "python",
   "nbconvert_exporter": "python",
   "pygments_lexer": "ipython3",
   "version": "3.8.5"
  }
 },
 "nbformat": 4,
 "nbformat_minor": 5
}
